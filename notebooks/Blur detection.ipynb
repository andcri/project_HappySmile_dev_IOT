{
 "cells": [
  {
   "cell_type": "code",
   "execution_count": 3,
   "metadata": {},
   "outputs": [
    {
     "name": "stderr",
     "output_type": "stream",
     "text": [
      "usage: ipykernel_launcher.py [-h] -i IMAGES [-t THRESHOLD]\n",
      "ipykernel_launcher.py: error: the following arguments are required: -i/--images\n"
     ]
    },
    {
     "ename": "SystemExit",
     "evalue": "2",
     "output_type": "error",
     "traceback": [
      "An exception has occurred, use %tb to see the full traceback.\n",
      "\u001b[0;31mSystemExit\u001b[0m\u001b[0;31m:\u001b[0m 2\n"
     ]
    }
   ],
   "source": [
    "# import the necessary packages\n",
    "from imutils import paths\n",
    "import argparse\n",
    "import cv2\n",
    " \n",
    "def variance_of_laplacian(image):\n",
    "    # compute the Laplacian of the image and then return the focus\n",
    "    # measure, which is simply the variance of the Laplacian\n",
    "    return cv2.Laplacian(image, cv2.CV_64F).var()\n",
    " \n",
    "# construct the argument parse and parse the arguments\n",
    "ap = argparse.ArgumentParser()\n",
    "ap.add_argument(\"-i\", \"--images\", required=True,\n",
    "    help=\"path to input directory of images\")\n",
    "ap.add_argument(\"-t\", \"--threshold\", type=float, default=100.0,\n",
    "    help=\"focus measures that fall below this value will be considered 'blurry'\")\n",
    "args = vars(ap.parse_args())\n",
    "\n",
    "# loop over the input images\n",
    "for imagePath in paths.list_images(args[\"images\"]):\n",
    "    # load the image, convert it to grayscale, and compute the\n",
    "    # focus measure of the image using the Variance of Laplacian\n",
    "    # method\n",
    "    image = cv2.imread(imagePath)\n",
    "    gray = cv2.cvtColor(image, cv2.COLOR_BGR2GRAY)\n",
    "    fm = variance_of_laplacian(gray)\n",
    "    text = \"Not Blurry\"\n",
    "\n",
    "    # if the focus measure is less than the supplied threshold,\n",
    "    # then the image should be considered \"blurry\"\n",
    "    if fm < args[\"threshold\"]:\n",
    "        text = \"Blurry\"\n",
    "\n",
    "    # show the image\n",
    "    cv2.putText(image, \"{}: {:.2f}\".format(text, fm), (10, 30),\n",
    "        cv2.FONT_HERSHEY_SIMPLEX, 0.8, (0, 0, 255), 3)\n",
    "    cv2.imshow(\"Image\", image)\n",
    "    key = cv2.waitKey(0)"
   ]
  },
  {
   "cell_type": "code",
   "execution_count": null,
   "metadata": {},
   "outputs": [],
   "source": []
  }
 ],
 "metadata": {
  "kernelspec": {
   "display_name": "Python 3",
   "language": "python",
   "name": "python3"
  },
  "language_info": {
   "codemirror_mode": {
    "name": "ipython",
    "version": 3
   },
   "file_extension": ".py",
   "mimetype": "text/x-python",
   "name": "python",
   "nbconvert_exporter": "python",
   "pygments_lexer": "ipython3",
   "version": "3.6.8"
  }
 },
 "nbformat": 4,
 "nbformat_minor": 2
}
