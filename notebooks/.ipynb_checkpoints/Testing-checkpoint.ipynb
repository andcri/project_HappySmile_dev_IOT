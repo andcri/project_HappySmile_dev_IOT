{
 "cells": [
  {
   "cell_type": "code",
   "execution_count": 12,
   "metadata": {},
   "outputs": [],
   "source": [
    "persons = ['Luca', 'Marco', 'Gianni', 'Aldo']\n",
    "is_same_person = [False, True, False, False]"
   ]
  },
  {
   "cell_type": "code",
   "execution_count": 14,
   "metadata": {},
   "outputs": [
    {
     "data": {
      "text/plain": [
       "['Luca', 'Marco', 'Gianni', 'Aldo']"
      ]
     },
     "execution_count": 14,
     "metadata": {},
     "output_type": "execute_result"
    }
   ],
   "source": [
    "persons"
   ]
  },
  {
   "cell_type": "code",
   "execution_count": 10,
   "metadata": {},
   "outputs": [],
   "source": [
    "def checkEqual1(iterator):\n",
    "    iterator = iter(iterator)\n",
    "    try:\n",
    "        first = next(iterator)\n",
    "    except StopIteration:\n",
    "        return True\n",
    "    return all(first == rest for rest in iterator)"
   ]
  },
  {
   "cell_type": "code",
   "execution_count": 11,
   "metadata": {},
   "outputs": [
    {
     "data": {
      "text/plain": [
       "False"
      ]
     },
     "execution_count": 11,
     "metadata": {},
     "output_type": "execute_result"
    }
   ],
   "source": [
    "checkEqual1(a)"
   ]
  },
  {
   "cell_type": "code",
   "execution_count": 20,
   "metadata": {},
   "outputs": [
    {
     "data": {
      "text/plain": [
       "'Marco'"
      ]
     },
     "execution_count": 20,
     "metadata": {},
     "output_type": "execute_result"
    }
   ],
   "source": [
    "persons[is_same_person.index(True)]"
   ]
  },
  {
   "cell_type": "code",
   "execution_count": 67,
   "metadata": {},
   "outputs": [],
   "source": [
    "persons = ['Luca', 'Marco', 'Gianni', 'Aldo', 'Luca']"
   ]
  },
  {
   "cell_type": "code",
   "execution_count": 68,
   "metadata": {},
   "outputs": [],
   "source": [
    "pointer0 = 0\n",
    "pointer1 = 1"
   ]
  },
  {
   "cell_type": "code",
   "execution_count": 69,
   "metadata": {},
   "outputs": [
    {
     "data": {
      "text/plain": [
       "4"
      ]
     },
     "execution_count": 69,
     "metadata": {},
     "output_type": "execute_result"
    }
   ],
   "source": [
    "len(persons) - 1 "
   ]
  },
  {
   "cell_type": "code",
   "execution_count": null,
   "metadata": {},
   "outputs": [],
   "source": []
  },
  {
   "cell_type": "code",
   "execution_count": 70,
   "metadata": {},
   "outputs": [
    {
     "name": "stdout",
     "output_type": "stream",
     "text": [
      "different\n",
      "different\n",
      "different\n",
      "match\n",
      "['Luca', 'Luca']\n"
     ]
    }
   ],
   "source": [
    "pointer0 = 0\n",
    "pointer1 = 1\n",
    "same_person = []\n",
    "while pointer1 <= len(persons) - 1:\n",
    "    first_person = persons[pointer0]\n",
    "    second_person = persons[pointer1]\n",
    "    if first_person == second_person:\n",
    "        print(\"match\")\n",
    "        same_person.append(second_person)\n",
    "        persons.pop(pointer1)\n",
    "    else:\n",
    "        print(\"different\")\n",
    "        pointer1 += 1\n",
    "        # add the first position value in the array\n",
    "        # remove it from the original array\n",
    "        # reset to 1 if exists else return the only value that we have in the array\n",
    "persons.pop(pointer0)\n",
    "print(same_person)"
   ]
  },
  {
   "cell_type": "code",
   "execution_count": 71,
   "metadata": {},
   "outputs": [
    {
     "data": {
      "text/plain": [
       "['Marco', 'Gianni', 'Aldo']"
      ]
     },
     "execution_count": 71,
     "metadata": {},
     "output_type": "execute_result"
    }
   ],
   "source": [
    "persons"
   ]
  },
  {
   "cell_type": "code",
   "execution_count": 103,
   "metadata": {},
   "outputs": [],
   "source": [
    "persons = ['Luca', 'Marco', 'Gianni', 'Aldo', 'Luca', 'Gianni', 'Luca', 'Massimo']\n",
    "pointer0 = 0\n",
    "pointer1 = 1"
   ]
  },
  {
   "cell_type": "code",
   "execution_count": 104,
   "metadata": {},
   "outputs": [
    {
     "name": "stdout",
     "output_type": "stream",
     "text": [
      "different\n",
      "different\n",
      "different\n",
      "match\n",
      "different\n",
      "match\n",
      "different\n",
      "different\n",
      "different\n",
      "different\n",
      "different\n",
      "different\n",
      "match\n",
      "different\n",
      "different\n",
      "[['Luca', 'Luca', 'Luca'], ['Marco'], ['Gianni', 'Gianni'], ['Aldo'], ['Massimo']]\n"
     ]
    }
   ],
   "source": [
    "pointer0 = 0\n",
    "pointer1 = 1\n",
    "same_person = []\n",
    "final_array = []\n",
    "while True:\n",
    "    first_person = persons[pointer0]\n",
    "    second_person = persons[pointer1]\n",
    "    if first_person == second_person:\n",
    "        print(\"match\")\n",
    "        same_person.append(second_person)\n",
    "        persons.pop(pointer1)\n",
    "    else:\n",
    "        print(\"different\")\n",
    "        pointer1 += 1\n",
    "    if pointer1 == len(persons):\n",
    "        same_person.append(persons[pointer0])\n",
    "        persons.pop(pointer0)\n",
    "        # TODO: send the newly created same_person list to a method that will create a dictionary of key values out of them\n",
    "        final_array.append(same_person)\n",
    "        # reset the same_person array\n",
    "        same_person = []\n",
    "        # check if persons list has more than one value inside\n",
    "        if len(persons) != 1:\n",
    "            # reset the pointer1 to 1\n",
    "            pointer1 = 1\n",
    "        else:\n",
    "            # TODO: send the one value to the dictionary builder pipeline and break out of the while loop\n",
    "            same_person.append(persons[pointer0])\n",
    "            final_array.append(same_person)\n",
    "            persons.pop(pointer0)\n",
    "            break\n",
    "print(final_array)"
   ]
  },
  {
   "cell_type": "code",
   "execution_count": 102,
   "metadata": {},
   "outputs": [
    {
     "data": {
      "text/plain": [
       "[]"
      ]
     },
     "execution_count": 102,
     "metadata": {},
     "output_type": "execute_result"
    }
   ],
   "source": [
    "persons\n",
    "# from final array i can calculate the avg time spent from each cs"
   ]
  },
  {
   "cell_type": "code",
   "execution_count": 109,
   "metadata": {},
   "outputs": [
    {
     "name": "stdout",
     "output_type": "stream",
     "text": [
      "{0: ['Luca', 'Luca', 'Luca'], 1: ['Marco'], 2: ['Gianni', 'Gianni'], 3: ['Aldo'], 4: ['Massimo']}\n"
     ]
    }
   ],
   "source": [
    "# create a dictionary builder that will use the values of final_array to build a dictionary of the type 1:[]\n",
    "\n",
    "built_dict = {}\n",
    "\n",
    "for key, value in enumerate(final_array):\n",
    "    built_dict[key] = value\n",
    "\n",
    "print(built_dict)"
   ]
  },
  {
   "cell_type": "code",
   "execution_count": 114,
   "metadata": {},
   "outputs": [
    {
     "name": "stdout",
     "output_type": "stream",
     "text": [
      "['Luca', 'Luca', 'Luca']\n",
      "['Marco']\n",
      "['Gianni', 'Gianni']\n",
      "['Aldo']\n",
      "['Massimo']\n"
     ]
    }
   ],
   "source": [
    "for image_list in built_dict.values():\n",
    "    print(image_list)"
   ]
  },
  {
   "cell_type": "code",
   "execution_count": 118,
   "metadata": {},
   "outputs": [],
   "source": [
    "for image_list in final_array:\n",
    "    converted_images_list = []\n",
    "    for image in image_list:\n",
    "        blur_value = get_blur_value(image) # sudo code that will work in the non test script\n",
    "        converted_images_list.append(blur_value)\n",
    "    # here we have all the converted images by blur level, we do a max to get the clearest image of the person\n",
    "    value_to_keep = max(converted_images_list)\n",
    "    image_index = converted_images_list.index(value_to_keep)\n",
    "    image_to_send = image_list[image_index]\n",
    "    # send to database the corrispective img of the value to keep\n",
    "    "
   ]
  },
  {
   "cell_type": "code",
   "execution_count": 120,
   "metadata": {},
   "outputs": [
    {
     "data": {
      "text/plain": [
       "[['Luca', 'Luca', 'Luca'],\n",
       " ['Marco'],\n",
       " ['Gianni', 'Gianni'],\n",
       " ['Aldo'],\n",
       " ['Massimo']]"
      ]
     },
     "execution_count": 120,
     "metadata": {},
     "output_type": "execute_result"
    }
   ],
   "source": [
    "converted_final"
   ]
  },
  {
   "cell_type": "code",
   "execution_count": 121,
   "metadata": {},
   "outputs": [
    {
     "data": {
      "text/plain": [
       "45"
      ]
     },
     "execution_count": 121,
     "metadata": {},
     "output_type": "execute_result"
    }
   ],
   "source": [
    "age_array = [20, 34, 38, 45]\n",
    "\n",
    "max(age_array)"
   ]
  },
  {
   "cell_type": "code",
   "execution_count": null,
   "metadata": {},
   "outputs": [],
   "source": []
  }
 ],
 "metadata": {
  "kernelspec": {
   "display_name": "Python 3",
   "language": "python",
   "name": "python3"
  },
  "language_info": {
   "codemirror_mode": {
    "name": "ipython",
    "version": 3
   },
   "file_extension": ".py",
   "mimetype": "text/x-python",
   "name": "python",
   "nbconvert_exporter": "python",
   "pygments_lexer": "ipython3",
   "version": "3.6.8"
  }
 },
 "nbformat": 4,
 "nbformat_minor": 2
}
